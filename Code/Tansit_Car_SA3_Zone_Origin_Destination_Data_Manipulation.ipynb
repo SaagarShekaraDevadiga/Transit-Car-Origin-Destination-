{
 "cells": [
  {
   "cell_type": "markdown",
   "metadata": {},
   "source": [
    "# Aim 1: \n",
    "Change a M x M matrix to a dataframe of three columns having values for Origin, Destination and Observations"
   ]
  },
  {
   "cell_type": "code",
   "execution_count": null,
   "metadata": {},
   "outputs": [],
   "source": [
    "import pandas as pd\n",
    "import os\n",
    "import glob   \n",
    "os.chdir(\"../OD\")  # Go to the working directory \n",
    "Transit_OD=pd.read_csv(\"TransitSA3.csv\")"
   ]
  },
  {
   "cell_type": "markdown",
   "metadata": {},
   "source": [
    "Make a temporaray Dataframe for trapping insdie the loop for split and combine operation"
   ]
  },
  {
   "cell_type": "code",
   "execution_count": 3,
   "metadata": {},
   "outputs": [],
   "source": [
    "Split_OD=pd.DataFrame()\n",
    "Split_OD['Origin']=\"\"\n",
    "Split_OD['Destination']=\"\"\n",
    "Split_Path=r'D:\\Python\\OD\\Split\\Zone_{}.csv'  # Path for saving the split data "
   ]
  },
  {
   "cell_type": "markdown",
   "metadata": {},
   "source": [
    "Split the data to the selected directory and save each file as its respective zone number"
   ]
  },
  {
   "cell_type": "code",
   "execution_count": 6,
   "metadata": {
    "scrolled": true
   },
   "outputs": [],
   "source": [
    "for i in range(len(Transit_OD)):\n",
    "    for j in range(len(Transit_OD)):\n",
    "        Split_OD.loc[j,['Origin']]=Transit_OD.at[i,'Name']\n",
    "        Split_OD.loc[j,['Destination']]=Transit_OD.at[j,'Name']\n",
    "        name=Transit_OD.at[i,'Name']\n",
    "        Split_OD['Count']=Transit_OD['{}'.format(name)]\n",
    "        Split_OD.to_csv(Split.format(name),index=False)"
   ]
  },
  {
   "cell_type": "markdown",
   "metadata": {},
   "source": [
    "Combine operation to stich all the split data into one file"
   ]
  },
  {
   "cell_type": "code",
   "execution_count": 10,
   "metadata": {},
   "outputs": [],
   "source": [
    "Split_Input_Path=r'D:\\Python\\OD\\Split' # Path for all the split files \n",
    "Combine_Output_Path=r'D:\\Python\\Transit_OD.csv' # Path to output the combined files\n",
    "os.chdir(Split_Input_path)\n",
    "extension = 'csv'\n",
    "all_filenames = [i for i in glob.glob('*.{}'.format(extension))]\n",
    "Split_OD = pd.concat([pd.read_csv(f) for f in all_filenames ])\n",
    "Split_OD.to_csv(Combine_Output_Path, index=False, encoding='utf-8-sig') "
   ]
  },
  {
   "cell_type": "markdown",
   "metadata": {},
   "source": [
    "# Aim 2:\n",
    "Map the lattitude and longitude to each origin destination pair for visualization"
   ]
  },
  {
   "cell_type": "code",
   "execution_count": 11,
   "metadata": {},
   "outputs": [],
   "source": [
    "Map_Coordinates=pd.read_csv(\"Transit_OD.csv\")"
   ]
  },
  {
   "cell_type": "markdown",
   "metadata": {},
   "source": [
    "# Mapping rules\n",
    "1. Make a dictinory having a key-value pair of the data needed to be mapped \n",
    "2. Create a column for which the data must be mapped in the original dataset \n",
    "3. Use the Map function and feed the dictinoray as an input "
   ]
  },
  {
   "cell_type": "code",
   "execution_count": 13,
   "metadata": {},
   "outputs": [],
   "source": [
    "Location=pd.read_csv(r\"D:\\Python\\OD\\SA3Lat.csv\")"
   ]
  },
  {
   "cell_type": "code",
   "execution_count": 14,
   "metadata": {},
   "outputs": [],
   "source": [
    "Lat = dict(zip(Location.SA3_CODE11, Location.Latitude))\n",
    "Long = dict(zip(Location.SA3_CODE11, Location.Longitude))"
   ]
  },
  {
   "cell_type": "code",
   "execution_count": 15,
   "metadata": {},
   "outputs": [],
   "source": [
    "Map_Coordinates['Origin_Latitude']=Map_Coordinates['Origin']\n",
    "Map_Coordinates['Origin_Longitude']=Map_Coordinates['Origin']\n",
    "Map_Coordinates['Origin_Latitude']=Map_Coordinates['Origin_Latitude'].map(Lat)\n",
    "Map_Coordinates['Origin_Longitude']=Map_Coordinates['Origin_Longitude'].map(Long)"
   ]
  },
  {
   "cell_type": "code",
   "execution_count": null,
   "metadata": {},
   "outputs": [],
   "source": [
    "Map_Coordinates.to_csv(\"Coordinates_TRANSIT_SA3_OD.csv\")"
   ]
  }
 ],
 "metadata": {
  "kernelspec": {
   "display_name": "Python 3",
   "language": "python",
   "name": "python3"
  },
  "language_info": {
   "codemirror_mode": {
    "name": "ipython",
    "version": 3
   },
   "file_extension": ".py",
   "mimetype": "text/x-python",
   "name": "python",
   "nbconvert_exporter": "python",
   "pygments_lexer": "ipython3",
   "version": "3.6.5"
  }
 },
 "nbformat": 4,
 "nbformat_minor": 2
}
